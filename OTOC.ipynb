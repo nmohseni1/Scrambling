{
 "cells": [
  {
   "cell_type": "code",
   "execution_count": 1,
   "id": "fe17ff08-9de3-4f2f-a750-23a4b7a9a577",
   "metadata": {},
   "outputs": [
    {
     "name": "stderr",
     "output_type": "stream",
     "text": [
      "/var/folders/bm/9lz4gv9d21gf9g5dwnm7rgym0000gn/T/ipykernel_50847/3922184955.py:15: DeprecationWarning: The ``qiskit.opflow`` module is deprecated as of qiskit-terra 0.24.0. It will be removed no earlier than 3 months after the release date. For code migration guidelines, visit https://qisk.it/opflow_migration.\n",
      "  from qiskit.opflow import I, X, Y, Z,H\n"
     ]
    }
   ],
   "source": [
    "import numpy as np\n",
    "from qutip import *\n",
    "from math import sqrt\n",
    "from scipy import *\n",
    "import scipy.linalg\n",
    "from qiskit import *\n",
    "from numpy.linalg import eig\n",
    "import matplotlib.pyplot as plt\n",
    "import pandas as pd\n",
    "import matplotlib.pyplot as plt\n",
    "import matplotlib\n",
    "import sys\n",
    "import scipy.linalg\n",
    "from qiskit.quantum_info import  Operator\n",
    "from qiskit.opflow import I, X, Y, Z,H\n",
    "import qiskit.quantum_info as qi\n"
   ]
  },
  {
   "cell_type": "markdown",
   "id": "2d194dc3-aa95-41ef-8c54-dd7cf3188b1b",
   "metadata": {},
   "source": [
    "#  Multi processing"
   ]
  },
  {
   "cell_type": "code",
   "execution_count": 3,
   "id": "c805b454-3bba-4bca-8ec3-75d27deea2fb",
   "metadata": {},
   "outputs": [
    {
     "name": "stderr",
     "output_type": "stream",
     "text": [
      "2024-05-01 13:54:38,451\tINFO worker.py:1749 -- Started a local Ray instance.\n"
     ]
    },
    {
     "data": {
      "application/vnd.jupyter.widget-view+json": {
       "model_id": "0a0d730c06084350857a0f5158c9ff43",
       "version_major": 2,
       "version_minor": 0
      },
      "text/html": [
       "<div class=\"lm-Widget p-Widget lm-Panel p-Panel jp-Cell-outputWrapper\">\n",
       "    <div style=\"margin-left: 50px;display: flex;flex-direction: row;align-items: center\">\n",
       "        <div class=\"jp-RenderedHTMLCommon\" style=\"display: flex; flex-direction: row;\">\n",
       "  <svg viewBox=\"0 0 567 224\" fill=\"none\" xmlns=\"http://www.w3.org/2000/svg\" style=\"height: 3em;\">\n",
       "    <g clip-path=\"url(#clip0_4338_178347)\">\n",
       "        <path d=\"M341.29 165.561H355.29L330.13 129.051C345.63 123.991 354.21 112.051 354.21 94.2307C354.21 71.3707 338.72 58.1807 311.88 58.1807H271V165.561H283.27V131.661H311.8C314.25 131.661 316.71 131.501 319.01 131.351L341.25 165.561H341.29ZM283.29 119.851V70.0007H311.82C331.3 70.0007 342.34 78.2907 342.34 94.5507C342.34 111.271 331.34 119.861 311.82 119.861L283.29 119.851ZM451.4 138.411L463.4 165.561H476.74L428.74 58.1807H416L367.83 165.561H380.83L392.83 138.411H451.4ZM446.19 126.601H398L422 72.1407L446.24 126.601H446.19ZM526.11 128.741L566.91 58.1807H554.35L519.99 114.181L485.17 58.1807H472.44L514.01 129.181V165.541H526.13V128.741H526.11Z\" fill=\"var(--jp-ui-font-color0)\"/>\n",
       "        <path d=\"M82.35 104.44C84.0187 97.8827 87.8248 92.0678 93.1671 87.9146C98.5094 83.7614 105.083 81.5067 111.85 81.5067C118.617 81.5067 125.191 83.7614 130.533 87.9146C135.875 92.0678 139.681 97.8827 141.35 104.44H163.75C164.476 101.562 165.622 98.8057 167.15 96.2605L127.45 56.5605C121.071 60.3522 113.526 61.6823 106.235 60.3005C98.9443 58.9187 92.4094 54.9203 87.8602 49.0574C83.3109 43.1946 81.0609 35.8714 81.5332 28.4656C82.0056 21.0599 85.1679 14.0819 90.4252 8.8446C95.6824 3.60726 102.672 0.471508 110.08 0.0272655C117.487 -0.416977 124.802 1.86091 130.647 6.4324C136.493 11.0039 140.467 17.5539 141.821 24.8501C143.175 32.1463 141.816 39.6859 138 46.0505L177.69 85.7505C182.31 82.9877 187.58 81.4995 192.962 81.4375C198.345 81.3755 203.648 82.742 208.33 85.3976C213.012 88.0532 216.907 91.9029 219.616 96.5544C222.326 101.206 223.753 106.492 223.753 111.875C223.753 117.258 222.326 122.545 219.616 127.197C216.907 131.848 213.012 135.698 208.33 138.353C203.648 141.009 198.345 142.375 192.962 142.313C187.58 142.251 182.31 140.763 177.69 138L138 177.7C141.808 184.071 143.155 191.614 141.79 198.91C140.424 206.205 136.44 212.75 130.585 217.313C124.731 221.875 117.412 224.141 110.004 223.683C102.596 223.226 95.6103 220.077 90.3621 214.828C85.1139 209.58 81.9647 202.595 81.5072 195.187C81.0497 187.779 83.3154 180.459 87.878 174.605C92.4405 168.751 98.9853 164.766 106.281 163.401C113.576 162.035 121.119 163.383 127.49 167.19L167.19 127.49C165.664 124.941 164.518 122.182 163.79 119.3H141.39C139.721 125.858 135.915 131.673 130.573 135.826C125.231 139.98 118.657 142.234 111.89 142.234C105.123 142.234 98.5494 139.98 93.2071 135.826C87.8648 131.673 84.0587 125.858 82.39 119.3H60C58.1878 126.495 53.8086 132.78 47.6863 136.971C41.5641 141.163 34.1211 142.972 26.7579 142.059C19.3947 141.146 12.6191 137.574 7.70605 132.014C2.79302 126.454 0.0813599 119.29 0.0813599 111.87C0.0813599 104.451 2.79302 97.2871 7.70605 91.7272C12.6191 86.1673 19.3947 82.5947 26.7579 81.6817C34.1211 80.7686 41.5641 82.5781 47.6863 86.7696C53.8086 90.9611 58.1878 97.2456 60 104.44H82.35ZM100.86 204.32C103.407 206.868 106.759 208.453 110.345 208.806C113.93 209.159 117.527 208.258 120.522 206.256C123.517 204.254 125.725 201.276 126.771 197.828C127.816 194.38 127.633 190.677 126.253 187.349C124.874 184.021 122.383 181.274 119.205 179.577C116.027 177.88 112.359 177.337 108.826 178.042C105.293 178.746 102.113 180.654 99.8291 183.44C97.5451 186.226 96.2979 189.718 96.3 193.32C96.2985 195.364 96.7006 197.388 97.4831 199.275C98.2656 201.163 99.4132 202.877 100.86 204.32ZM204.32 122.88C206.868 120.333 208.453 116.981 208.806 113.396C209.159 109.811 208.258 106.214 206.256 103.219C204.254 100.223 201.275 98.0151 197.827 96.97C194.38 95.9249 190.676 96.1077 187.348 97.4873C184.02 98.8669 181.274 101.358 179.577 104.536C177.879 107.714 177.337 111.382 178.041 114.915C178.746 118.448 180.653 121.627 183.439 123.911C186.226 126.195 189.717 127.443 193.32 127.44C195.364 127.443 197.388 127.042 199.275 126.259C201.163 125.476 202.878 124.328 204.32 122.88ZM122.88 19.4205C120.333 16.8729 116.981 15.2876 113.395 14.9347C109.81 14.5817 106.213 15.483 103.218 17.4849C100.223 19.4868 98.0146 22.4654 96.9696 25.9131C95.9245 29.3608 96.1073 33.0642 97.4869 36.3922C98.8665 39.7202 101.358 42.4668 104.535 44.1639C107.713 45.861 111.381 46.4036 114.914 45.6992C118.447 44.9949 121.627 43.0871 123.911 40.301C126.195 37.515 127.442 34.0231 127.44 30.4205C127.44 28.3772 127.038 26.3539 126.255 24.4664C125.473 22.5788 124.326 20.8642 122.88 19.4205ZM19.42 100.86C16.8725 103.408 15.2872 106.76 14.9342 110.345C14.5813 113.93 15.4826 117.527 17.4844 120.522C19.4863 123.518 22.4649 125.726 25.9127 126.771C29.3604 127.816 33.0638 127.633 36.3918 126.254C39.7198 124.874 42.4664 122.383 44.1635 119.205C45.8606 116.027 46.4032 112.359 45.6988 108.826C44.9944 105.293 43.0866 102.114 40.3006 99.8296C37.5145 97.5455 34.0227 96.2983 30.42 96.3005C26.2938 96.3018 22.337 97.9421 19.42 100.86ZM100.86 100.86C98.3125 103.408 96.7272 106.76 96.3742 110.345C96.0213 113.93 96.9226 117.527 98.9244 120.522C100.926 123.518 103.905 125.726 107.353 126.771C110.8 127.816 114.504 127.633 117.832 126.254C121.16 124.874 123.906 122.383 125.604 119.205C127.301 116.027 127.843 112.359 127.139 108.826C126.434 105.293 124.527 102.114 121.741 99.8296C118.955 97.5455 115.463 96.2983 111.86 96.3005C109.817 96.299 107.793 96.701 105.905 97.4835C104.018 98.2661 102.303 99.4136 100.86 100.86Z\" fill=\"#00AEEF\"/>\n",
       "    </g>\n",
       "    <defs>\n",
       "        <clipPath id=\"clip0_4338_178347\">\n",
       "            <rect width=\"566.93\" height=\"223.75\" fill=\"white\"/>\n",
       "        </clipPath>\n",
       "    </defs>\n",
       "  </svg>\n",
       "</div>\n",
       "\n",
       "        <table class=\"jp-RenderedHTMLCommon\" style=\"border-collapse: collapse;color: var(--jp-ui-font-color1);font-size: var(--jp-ui-font-size1);\">\n",
       "    <tr>\n",
       "        <td style=\"text-align: left\"><b>Python version:</b></td>\n",
       "        <td style=\"text-align: left\"><b>3.9.16</b></td>\n",
       "    </tr>\n",
       "    <tr>\n",
       "        <td style=\"text-align: left\"><b>Ray version:</b></td>\n",
       "        <td style=\"text-align: left\"><b>2.12.0</b></td>\n",
       "    </tr>\n",
       "    \n",
       "</table>\n",
       "\n",
       "    </div>\n",
       "</div>\n"
      ],
      "text/plain": [
       "RayContext(dashboard_url='', python_version='3.9.16', ray_version='2.12.0', ray_commit='549c4b7694483f6bc9e519b61e6f575e13510343')"
      ]
     },
     "execution_count": 3,
     "metadata": {},
     "output_type": "execute_result"
    }
   ],
   "source": [
    "import ray\n",
    "ray.init(num_cpus=32)"
   ]
  },
  {
   "cell_type": "code",
   "execution_count": 5,
   "id": "044016e3-f7a5-4707-8db6-8b48d9d0ec71",
   "metadata": {},
   "outputs": [
    {
     "name": "stdout",
     "output_type": "stream",
     "text": [
      "8\n",
      "8\n"
     ]
    }
   ],
   "source": [
    "import os\n",
    "import multiprocessing\n",
    "print(os.cpu_count())\n",
    "#print(len(os.sched_getaffinity(0)))\n",
    "print(multiprocessing.cpu_count())"
   ]
  },
  {
   "cell_type": "markdown",
   "id": "d64d5861",
   "metadata": {},
   "source": [
    "# Calculating OTOC"
   ]
  },
  {
   "cell_type": "code",
   "execution_count": 7,
   "id": "5301cbaf-9a65-493c-b5d9-a9096abca906",
   "metadata": {},
   "outputs": [
    {
     "ename": "KeyboardInterrupt",
     "evalue": "",
     "output_type": "error",
     "traceback": [
      "\u001b[0;31m---------------------------------------------------------------------------\u001b[0m",
      "\u001b[0;31mKeyboardInterrupt\u001b[0m                         Traceback (most recent call last)",
      "Cell \u001b[0;32mIn[7], line 119\u001b[0m\n\u001b[1;32m    116\u001b[0m         result_list\u001b[38;5;241m.\u001b[39mappend(Circuit_func\u001b[38;5;241m.\u001b[39mremote(n,ii,circuit,operator_0,Op))\n\u001b[1;32m    118\u001b[0m             \u001b[38;5;66;03m#print(Op[0]) \u001b[39;00m\n\u001b[0;32m--> 119\u001b[0m norm\u001b[38;5;241m=\u001b[39mnp\u001b[38;5;241m.\u001b[39mreshape(\u001b[43mray\u001b[49m\u001b[38;5;241;43m.\u001b[39;49m\u001b[43mget\u001b[49m\u001b[43m(\u001b[49m\u001b[43mresult_list\u001b[49m\u001b[43m)\u001b[49m,(N, \u001b[38;5;28mlen\u001b[39m(Op),K))\n\u001b[1;32m    120\u001b[0m norm_ave\u001b[38;5;241m=\u001b[39mnp\u001b[38;5;241m.\u001b[39maverage(norm,axis\u001b[38;5;241m=\u001b[39m\u001b[38;5;241m0\u001b[39m)            \n\u001b[1;32m    122\u001b[0m \u001b[38;5;28mprint\u001b[39m(\u001b[38;5;124m\"\u001b[39m\u001b[38;5;124mThe time difference is :\u001b[39m\u001b[38;5;124m\"\u001b[39m, timeit\u001b[38;5;241m.\u001b[39mdefault_timer() \u001b[38;5;241m-\u001b[39m starttime)\n",
      "File \u001b[0;32m~/miniconda3/envs/Qiskit/lib/python3.9/site-packages/ray/_private/auto_init_hook.py:21\u001b[0m, in \u001b[0;36mwrap_auto_init.<locals>.auto_init_wrapper\u001b[0;34m(*args, **kwargs)\u001b[0m\n\u001b[1;32m     18\u001b[0m \u001b[38;5;129m@wraps\u001b[39m(fn)\n\u001b[1;32m     19\u001b[0m \u001b[38;5;28;01mdef\u001b[39;00m \u001b[38;5;21mauto_init_wrapper\u001b[39m(\u001b[38;5;241m*\u001b[39margs, \u001b[38;5;241m*\u001b[39m\u001b[38;5;241m*\u001b[39mkwargs):\n\u001b[1;32m     20\u001b[0m     auto_init_ray()\n\u001b[0;32m---> 21\u001b[0m     \u001b[38;5;28;01mreturn\u001b[39;00m \u001b[43mfn\u001b[49m\u001b[43m(\u001b[49m\u001b[38;5;241;43m*\u001b[39;49m\u001b[43margs\u001b[49m\u001b[43m,\u001b[49m\u001b[43m \u001b[49m\u001b[38;5;241;43m*\u001b[39;49m\u001b[38;5;241;43m*\u001b[39;49m\u001b[43mkwargs\u001b[49m\u001b[43m)\u001b[49m\n",
      "File \u001b[0;32m~/miniconda3/envs/Qiskit/lib/python3.9/site-packages/ray/_private/client_mode_hook.py:103\u001b[0m, in \u001b[0;36mclient_mode_hook.<locals>.wrapper\u001b[0;34m(*args, **kwargs)\u001b[0m\n\u001b[1;32m    101\u001b[0m     \u001b[38;5;28;01mif\u001b[39;00m func\u001b[38;5;241m.\u001b[39m\u001b[38;5;18m__name__\u001b[39m \u001b[38;5;241m!=\u001b[39m \u001b[38;5;124m\"\u001b[39m\u001b[38;5;124minit\u001b[39m\u001b[38;5;124m\"\u001b[39m \u001b[38;5;129;01mor\u001b[39;00m is_client_mode_enabled_by_default:\n\u001b[1;32m    102\u001b[0m         \u001b[38;5;28;01mreturn\u001b[39;00m \u001b[38;5;28mgetattr\u001b[39m(ray, func\u001b[38;5;241m.\u001b[39m\u001b[38;5;18m__name__\u001b[39m)(\u001b[38;5;241m*\u001b[39margs, \u001b[38;5;241m*\u001b[39m\u001b[38;5;241m*\u001b[39mkwargs)\n\u001b[0;32m--> 103\u001b[0m \u001b[38;5;28;01mreturn\u001b[39;00m \u001b[43mfunc\u001b[49m\u001b[43m(\u001b[49m\u001b[38;5;241;43m*\u001b[39;49m\u001b[43margs\u001b[49m\u001b[43m,\u001b[49m\u001b[43m \u001b[49m\u001b[38;5;241;43m*\u001b[39;49m\u001b[38;5;241;43m*\u001b[39;49m\u001b[43mkwargs\u001b[49m\u001b[43m)\u001b[49m\n",
      "File \u001b[0;32m~/miniconda3/envs/Qiskit/lib/python3.9/site-packages/ray/_private/worker.py:2623\u001b[0m, in \u001b[0;36mget\u001b[0;34m(object_refs, timeout)\u001b[0m\n\u001b[1;32m   2617\u001b[0m     \u001b[38;5;28;01mraise\u001b[39;00m \u001b[38;5;167;01mValueError\u001b[39;00m(\n\u001b[1;32m   2618\u001b[0m         \u001b[38;5;124mf\u001b[39m\u001b[38;5;124m\"\u001b[39m\u001b[38;5;124mInvalid type of object refs, \u001b[39m\u001b[38;5;132;01m{\u001b[39;00m\u001b[38;5;28mtype\u001b[39m(object_refs)\u001b[38;5;132;01m}\u001b[39;00m\u001b[38;5;124m, is given. \u001b[39m\u001b[38;5;124m\"\u001b[39m\n\u001b[1;32m   2619\u001b[0m         \u001b[38;5;124m\"\u001b[39m\u001b[38;5;124m'\u001b[39m\u001b[38;5;124mobject_refs\u001b[39m\u001b[38;5;124m'\u001b[39m\u001b[38;5;124m must either be an ObjectRef or a list of ObjectRefs. \u001b[39m\u001b[38;5;124m\"\u001b[39m\n\u001b[1;32m   2620\u001b[0m     )\n\u001b[1;32m   2622\u001b[0m \u001b[38;5;66;03m# TODO(ujvl): Consider how to allow user to retrieve the ready objects.\u001b[39;00m\n\u001b[0;32m-> 2623\u001b[0m values, debugger_breakpoint \u001b[38;5;241m=\u001b[39m \u001b[43mworker\u001b[49m\u001b[38;5;241;43m.\u001b[39;49m\u001b[43mget_objects\u001b[49m\u001b[43m(\u001b[49m\u001b[43mobject_refs\u001b[49m\u001b[43m,\u001b[49m\u001b[43m \u001b[49m\u001b[43mtimeout\u001b[49m\u001b[38;5;241;43m=\u001b[39;49m\u001b[43mtimeout\u001b[49m\u001b[43m)\u001b[49m\n\u001b[1;32m   2624\u001b[0m \u001b[38;5;28;01mfor\u001b[39;00m i, value \u001b[38;5;129;01min\u001b[39;00m \u001b[38;5;28menumerate\u001b[39m(values):\n\u001b[1;32m   2625\u001b[0m     \u001b[38;5;28;01mif\u001b[39;00m \u001b[38;5;28misinstance\u001b[39m(value, RayError):\n",
      "File \u001b[0;32m~/miniconda3/envs/Qiskit/lib/python3.9/site-packages/ray/_private/worker.py:840\u001b[0m, in \u001b[0;36mWorker.get_objects\u001b[0;34m(self, object_refs, timeout)\u001b[0m\n\u001b[1;32m    834\u001b[0m         \u001b[38;5;28;01mraise\u001b[39;00m \u001b[38;5;167;01mTypeError\u001b[39;00m(\n\u001b[1;32m    835\u001b[0m             \u001b[38;5;124mf\u001b[39m\u001b[38;5;124m\"\u001b[39m\u001b[38;5;124mAttempting to call `get` on the value \u001b[39m\u001b[38;5;132;01m{\u001b[39;00mobject_ref\u001b[38;5;132;01m}\u001b[39;00m\u001b[38;5;124m, \u001b[39m\u001b[38;5;124m\"\u001b[39m\n\u001b[1;32m    836\u001b[0m             \u001b[38;5;124m\"\u001b[39m\u001b[38;5;124mwhich is not an ray.ObjectRef.\u001b[39m\u001b[38;5;124m\"\u001b[39m\n\u001b[1;32m    837\u001b[0m         )\n\u001b[1;32m    839\u001b[0m timeout_ms \u001b[38;5;241m=\u001b[39m \u001b[38;5;28mint\u001b[39m(timeout \u001b[38;5;241m*\u001b[39m \u001b[38;5;241m1000\u001b[39m) \u001b[38;5;28;01mif\u001b[39;00m timeout \u001b[38;5;129;01mis\u001b[39;00m \u001b[38;5;129;01mnot\u001b[39;00m \u001b[38;5;28;01mNone\u001b[39;00m \u001b[38;5;28;01melse\u001b[39;00m \u001b[38;5;241m-\u001b[39m\u001b[38;5;241m1\u001b[39m\n\u001b[0;32m--> 840\u001b[0m data_metadata_pairs \u001b[38;5;241m=\u001b[39m \u001b[38;5;28;43mself\u001b[39;49m\u001b[38;5;241;43m.\u001b[39;49m\u001b[43mcore_worker\u001b[49m\u001b[38;5;241;43m.\u001b[39;49m\u001b[43mget_objects\u001b[49m\u001b[43m(\u001b[49m\n\u001b[1;32m    841\u001b[0m \u001b[43m    \u001b[49m\u001b[43mobject_refs\u001b[49m\u001b[43m,\u001b[49m\n\u001b[1;32m    842\u001b[0m \u001b[43m    \u001b[49m\u001b[38;5;28;43mself\u001b[39;49m\u001b[38;5;241;43m.\u001b[39;49m\u001b[43mcurrent_task_id\u001b[49m\u001b[43m,\u001b[49m\n\u001b[1;32m    843\u001b[0m \u001b[43m    \u001b[49m\u001b[43mtimeout_ms\u001b[49m\u001b[43m,\u001b[49m\n\u001b[1;32m    844\u001b[0m \u001b[43m\u001b[49m\u001b[43m)\u001b[49m\n\u001b[1;32m    845\u001b[0m debugger_breakpoint \u001b[38;5;241m=\u001b[39m \u001b[38;5;124mb\u001b[39m\u001b[38;5;124m\"\u001b[39m\u001b[38;5;124m\"\u001b[39m\n\u001b[1;32m    846\u001b[0m \u001b[38;5;28;01mfor\u001b[39;00m data, metadata \u001b[38;5;129;01min\u001b[39;00m data_metadata_pairs:\n",
      "File \u001b[0;32mpython/ray/_raylet.pyx:3481\u001b[0m, in \u001b[0;36mray._raylet.CoreWorker.get_objects\u001b[0;34m()\u001b[0m\n",
      "File \u001b[0;32mpython/ray/_raylet.pyx:571\u001b[0m, in \u001b[0;36mray._raylet.check_status\u001b[0;34m()\u001b[0m\n",
      "\u001b[0;31mKeyboardInterrupt\u001b[0m: "
     ]
    }
   ],
   "source": [
    "import timeit\n",
    "from math import pi\n",
    "N=40#number of samples\n",
    "K=40# number of modules\n",
    "starttime = timeit.default_timer()\n",
    "correlation=20\n",
    "M=9\n",
    "\n",
    "def GaussianTheta(num_seq, sigma, num_instance):\n",
    "    # output is a matrix of num_instance times num_seq, each row is one instance of Theta(sequence)\n",
    "    \"\"\"\n",
    "    Generates a matrix of random values following a Gaussian random process.\n",
    "\n",
    "    Args:\n",
    "        num_seq (int): Number of Modules.\n",
    "        sigma (float): Correlation lenght.\n",
    "        num_instance (int): Number of instances.\n",
    "\n",
    "    Returns:\n",
    "        numpy.ndarray: Matrix of random values.\n",
    "    \"\"\"\n",
    "    \n",
    "    Delta = scipy.linalg.toeplitz( - np.arange(num_seq), np.arange(num_seq) )\n",
    "    \n",
    "    \n",
    "    CovMat = np.exp( - np.power(Delta,2) / ( 2 * sigma ** 2 ) )\n",
    "    \n",
    "    \n",
    "    eig_val, eig_vec = np.linalg.eigh(CovMat) \n",
    "    eig_val = np.maximum(eig_val, 0.0) \n",
    "    \n",
    "    L = np.dot( np.sqrt(np.diag(eig_val)) , eig_vec.T )\n",
    "    K = np.dot( np.random.randn( num_instance, num_seq ) , L )\n",
    "    \n",
    "    return K\n",
    "\n",
    "ThetaX=np.ones((N,K,M))\n",
    "for i in range(M):\n",
    "\n",
    "    Seed=M+i\n",
    "    np.random.seed(Seed)\n",
    "\n",
    "    ThetaX[:,:,i] = GaussianTheta( K, correlation, N ) \n",
    "\n",
    "\n",
    "def module(circuit,theta):\n",
    "    \"\"\"\n",
    "    Applies quantum gates to the quantum circuit.\n",
    "\n",
    "    Args:\n",
    "        ThetaX (numpy.ndarray):\n",
    "        K (int): Number of modules.\n",
    "        n (int): Index of the instance.\n",
    "        circuit (QuantumCircuit): Quantum circuit to apply gates on.\n",
    "        qr (QuantumRegister): Quantum register.\n",
    "        M (int): Number of qubits.\n",
    "\n",
    "    Returns:\n",
    "        circuit\n",
    "    \"\"\"\n",
    "        \n",
    "    for j in range(1, M):\n",
    "            \n",
    "            circuit.rzz(theta=-pi/2, qubit1=qr[j-1], qubit2=qr[j])\n",
    "    for j in range(M):\n",
    "            circuit.rz(-pi/2,j)\n",
    "\n",
    "    for j in range(M):\n",
    "            circuit.rx(-2*theta[j],M-1-j)# apparently qiskit counts qubits inversly that is why I said M-1-j instead of j\n",
    "    return(circuit)\n",
    "\n",
    "def OTOC(circuit,operator_0):\n",
    "    #print(circuit)\n",
    "    return((np.array(qi.Operator(circuit)))@ np.array(qi.Operator(operator_0))\n",
    "     @(np.conjugate(np.array(qi.Operator(circuit))).T))\n",
    "\n",
    "def Norm(Op,Operator):\n",
    "    return(commutator(Qobj(np.array(qi.Operator(Op[4])),dims = [[2]*M,[2]*M])\n",
    "            ,Qobj(np.array(qi.Operator(Operator)),dims = [[2]*M,[2]*M]))).norm(norm='fro')\n",
    "\n",
    "\n",
    "\n",
    "\n",
    "cr=ClassicalRegister(M)\n",
    "qr=QuantumRegister(M)\n",
    "Op=[]\n",
    "for i in range(M):\n",
    "    Op.append( ((I^i)^X^(I^(M-i-1))))\n",
    "\n",
    "\n",
    "norm_store= []\n",
    "\n",
    "\n",
    "@ray.remote\n",
    "def Circuit_func(n,ii,circuit,operator_0,Op):\n",
    "    #print('n',n)\n",
    "    norm_store=[]\n",
    "    for k in range(0,K):\n",
    "        theta=ThetaX[n,k,:]\n",
    "        #print('n,k',n,k)\n",
    "        circuit=module(circuit,theta)\n",
    "        #print(circuit)\n",
    "        Operator = OTOC(circuit,operator_0)\n",
    "        norm_store.append(Norm(Op,Operator))\n",
    "        #print(Operator)\n",
    "    return(norm_store)\n",
    "result_list=[]\n",
    "for n in range(N):\n",
    "    for ii,op in enumerate(Op):\n",
    "        operator_0=op\n",
    "       \n",
    "    \n",
    "        circuit = QuantumCircuit(qr, cr)\n",
    "        #print(norm_store)\n",
    "        \n",
    "        result_list.append(Circuit_func.remote(n,ii,circuit,operator_0,Op))\n",
    "        \n",
    "            #print(Op[0]) \n",
    "norm=np.reshape(ray.get(result_list),(N, len(Op),K))\n",
    "norm_ave=np.average(norm,axis=0)            \n",
    "\n",
    "print(\"The time difference is :\", timeit.default_timer() - starttime)"
   ]
  },
  {
   "cell_type": "code",
   "execution_count": 33,
   "id": "8c18942d-c482-4e3e-a149-f866b19e489e",
   "metadata": {},
   "outputs": [
    {
     "name": "stderr",
     "output_type": "stream",
     "text": [
      "/tmp/ipykernel_5464/123682184.py:9: DeprecationWarning: scipy.real is deprecated and will be removed in SciPy 2.0.0, use numpy.real instead\n",
      "  plt.imshow(real(norm_ave).T,aspect=6,origin='lower',cmap='jet',vmin=0,vmax=42)\n"
     ]
    },
    {
     "data": {
      "image/png": "[encoded data removed]",
      "text/plain": [
       "<Figure size 432x288 with 1 Axes>"
      ]
     },
     "metadata": {},
     "output_type": "display_data"
    }
   ],
   "source": [
    "\n",
    "z=(np.stack([\n",
    "scipy.interpolate.interp1d(np.linspace(0.0, 1.0, K),cd,kind='quadratic')(np.linspace(0.0, 1.0, 10*K))\n",
    "for cd in norm_ave\n",
    "]))\n",
    "plt.imshow(real(norm_ave).T,aspect=6,origin='lower',cmap='jet',vmin=0,vmax=42)\n",
    "#plt.colorbar()\n",
    "plt.yscale('log')\n",
    "plt.ylim([2,40])\n",
    "#plt.axis('off')\n",
    "plt.tick_params(width=1.5,labelbottom=False,axis='x')\n",
    "plt.tick_params(width=1.5,labelleft=False,axis='y')\n",
    "plt.xticks([0,1,2,3,4,5,6,7,8])\n",
    "plt.yticks([1,10])\n",
    "plt.savefig('OTOZ_zz_y_inhom.pdf',transparent=True, format='pdf',bbox_inches='tight')"
   ]
  },
  {
   "cell_type": "code",
   "execution_count": 2,
   "id": "23b11cc4-b162-4bc4-91bb-9290a0423257",
   "metadata": {},
   "outputs": [],
   "source": [
    "Norm3=np.load('OTOZ_ZZ_z_inhom.npz')\n",
    "Norm_3=Norm3['state']\n",
    "Norm4=np.load('OTOZ_zz_x_inhom.npz')\n",
    "Norm_4=Norm4['state']\n",
    "Norm2=np.load('OTOZ_xx_x_inhom.npz')\n",
    "Norm_2=Norm2['state']\n",
    "Norm1=np.load('OTOZ_xx_z_inhom.npz')\n",
    "Norm_1=Norm1['state']\n",
    "Norm5=np.load('OTOZ_zz_y_inhom.npz')\n",
    "Norm_5=Norm5['state']"
   ]
  },
  {
   "cell_type": "code",
   "execution_count": null,
   "id": "50138914-ce1e-4532-bebb-eb09c54281ed",
   "metadata": {},
   "outputs": [],
   "source": []
  },
  {
   "cell_type": "code",
   "execution_count": 28,
   "id": "13d8c03f-7598-47c8-9fa3-bb471547e10b",
   "metadata": {},
   "outputs": [
    {
     "name": "stderr",
     "output_type": "stream",
     "text": [
      "/tmp/ipykernel_19026/973325090.py:9: DeprecationWarning: scipy.real is deprecated and will be removed in SciPy 2.0.0, use numpy.real instead\n",
      "  plt.imshow(real(norm_ave).T,aspect=6,origin='lower',cmap='jet')\n"
     ]
    },
    {
     "data": {
      "image/png": "[encoded data removed]",
      "text/plain": [
       "<Figure size 432x288 with 2 Axes>"
      ]
     },
     "metadata": {
      "needs_background": "light"
     },
     "output_type": "display_data"
    }
   ],
   "source": [
    "# inhomogenious\n",
    "# zz model 'fro', average over 20 samples\n",
    "#Open sigms_x(t)_j\n",
    "#from matplotlib.colors import symlog()\n",
    "z=(np.stack([\n",
    "scipy.interpolate.interp1d(np.linspace(0.0, 1.0, K),cd,kind='quadratic')(np.linspace(0.0, 1.0, 10*K))\n",
    "for cd in norm_ave\n",
    "]))\n",
    "plt.imshow(real(norm_ave).T,aspect=6,origin='lower',cmap='jet')\n",
    "plt.colorbar()\n",
    "plt.yscale('log')\n",
    "plt.ylim([2,40])\n",
    "#plt.axis('off')\n",
    "plt.tick_params(width=1.5,labelbottom=False,axis='x')\n",
    "plt.tick_params(width=1.5,labelleft=False,axis='y')\n",
    "plt.xticks([0,1,2,3,4,5,6,7,8])\n",
    "plt.yticks([1,10])\n",
    "plt.savefig('OTOZ_zz_x_hom.pdf',transparent=True, format='pdf',bbox_inches='tight')"
   ]
  },
  {
   "cell_type": "code",
   "execution_count": 28,
   "id": "478a1b59-eab8-4a79-8203-e1c5ea48f4ca",
   "metadata": {},
   "outputs": [
    {
     "name": "stderr",
     "output_type": "stream",
     "text": [
      "/tmp/ipykernel_2443/865015427.py:9: DeprecationWarning: scipy.real is deprecated and will be removed in SciPy 2.0.0, use numpy.real instead\n",
      "  plt.imshow(real(norm_ave).T,aspect=6,origin='lower',cmap='jet')\n"
     ]
    },
    {
     "data": {
      "text/plain": [
       "([<matplotlib.axis.YTick at 0x1518ca548b20>,\n",
       "  <matplotlib.axis.YTick at 0x1518ca4542e0>],\n",
       " [])"
      ]
     },
     "execution_count": 28,
     "metadata": {},
     "output_type": "execute_result"
    },
    {
     "data": {
      "image/png": "[encoded data removed]",
      "text/plain": [
       "<Figure size 432x288 with 2 Axes>"
      ]
     },
     "metadata": {
      "needs_background": "light"
     },
     "output_type": "display_data"
    }
   ],
   "source": [
    "# inhomogenious\n",
    "# zz model 'fro', average over 20 samples\n",
    "#Open sigms_x(t)_j\n",
    "#from matplotlib.colors import symlog()\n",
    "z=(np.stack([\n",
    "scipy.interpolate.interp1d(np.linspace(0.0, 1.0, K),cd,kind='quadratic')(np.linspace(0.0, 1.0, 10*K))\n",
    "for cd in norm_ave\n",
    "]))\n",
    "plt.imshow(real(norm_ave).T,aspect=6,origin='lower',cmap='jet')\n",
    "plt.colorbar()\n",
    "plt.yscale('log')\n",
    "plt.ylim([2,40])\n",
    "#plt.axis('off')\n",
    "plt.tick_params(width=1.5,labelbottom=False,axis='x')\n",
    "plt.tick_params(width=1.5,labelleft=False,axis='y')\n",
    "plt.xticks([0,1,2,3,4,5,6,7,8])\n",
    "plt.yticks([1,10])\n",
    "#plt.savefig('OTOZ_xx_x_inhom.pdf',transparent=True, format='pdf',bbox_inches='tight')"
   ]
  },
  {
   "cell_type": "code",
   "execution_count": 4,
   "id": "0373d487-848c-4aef-ab76-dccf08bc1610",
   "metadata": {},
   "outputs": [],
   "source": []
  },
  {
   "cell_type": "code",
   "execution_count": 32,
   "id": "4b6d4cde-121c-4cc3-bde4-067ba0f9baf8",
   "metadata": {},
   "outputs": [
    {
     "name": "stderr",
     "output_type": "stream",
     "text": [
      "/tmp/ipykernel_5464/998281204.py:9: DeprecationWarning: scipy.real is deprecated and will be removed in SciPy 2.0.0, use numpy.real instead\n",
      "  axes[0,0].imshow(real(Norm_3 ).T,aspect=6,origin='lower',cmap='jet',vmin=np.min(real(Norm_3 ).T), vmax=zz)\n",
      "/tmp/ipykernel_5464/998281204.py:11: DeprecationWarning: scipy.real is deprecated and will be removed in SciPy 2.0.0, use numpy.real instead\n",
      "  axes[0,1].imshow(real(Norm_1 ).T,aspect=6,origin='lower',cmap='jet',vmin=np.min(real(Norm_1 ).T), vmax=zz)\n",
      "/tmp/ipykernel_5464/998281204.py:12: DeprecationWarning: scipy.real is deprecated and will be removed in SciPy 2.0.0, use numpy.real instead\n",
      "  axes[1,0].imshow(real(Norm_4 ).T,aspect=6,origin='lower',cmap='jet',vmin=np.min(real(Norm_4 ).T), vmax=zz)\n",
      "/tmp/ipykernel_5464/998281204.py:13: DeprecationWarning: scipy.real is deprecated and will be removed in SciPy 2.0.0, use numpy.real instead\n",
      "  axes[1,1].imshow(real(Norm_2 ).T,aspect=6,origin='lower',cmap='jet',vmin=np.min(real(Norm_2 ).T), vmax=zz)\n"
     ]
    },
    {
     "data": {
      "image/png": "[encoded data removed]",
      "text/plain": [
       "<Figure size 1224x864 with 4 Axes>"
      ]
     },
     "metadata": {
      "needs_background": "light"
     },
     "output_type": "display_data"
    }
   ],
   "source": [
    "# 90000 samples\n",
    "zz=42\n",
    "fig, axes = plt.subplots(2, 2, figsize=(17,12))\n",
    "fig.tight_layout()\n",
    "#fig.suptitle(r'$fro,z$' ,size=35, y=1.05)\n",
    "for j in range(3):\n",
    "    for k in range(3*j,3*(j+1)):\n",
    "        \n",
    "        axes[0,0].imshow(real(Norm_3 ).T,aspect=6,origin='lower',cmap='jet',vmin=np.min(real(Norm_3 ).T), vmax=zz)\n",
    "       # axes[0,0].colorbar()\n",
    "        axes[0,1].imshow(real(Norm_1 ).T,aspect=6,origin='lower',cmap='jet',vmin=np.min(real(Norm_1 ).T), vmax=zz)\n",
    "        axes[1,0].imshow(real(Norm_4 ).T,aspect=6,origin='lower',cmap='jet',vmin=np.min(real(Norm_4 ).T), vmax=zz)\n",
    "        axes[1,1].imshow(real(Norm_2 ).T,aspect=6,origin='lower',cmap='jet',vmin=np.min(real(Norm_2 ).T), vmax=zz)\n",
    "        \n",
    "        \n",
    "axes[0,0].set_yscale('log')\n",
    "axes[0,1].set_yscale('log')\n",
    "axes[1,0].set_yscale('log')\n",
    "axes[1,1].set_yscale('log')\n",
    "axes[0,0].set_ylim([1,40])\n",
    "axes[0,1].set_ylim([1,40])\n",
    "axes[1,1].set_ylim([1,40])\n",
    "axes[1,0].set_ylim([1,40])\n",
    "#legend.draggable()\n",
    "plt.subplots_adjust(right=0.95)\n",
    "#fig.colorbar()"
   ]
  },
  {
   "cell_type": "code",
   "execution_count": 6,
   "id": "92541385-0748-4a4f-905e-7c3d37cf8aab",
   "metadata": {},
   "outputs": [
    {
     "name": "stderr",
     "output_type": "stream",
     "text": [
      "/tmp/ipykernel_24695/293447561.py:9: DeprecationWarning: scipy.real is deprecated and will be removed in SciPy 2.0.0, use numpy.real instead\n",
      "  plt.imshow(real(norm_ave).T,aspect=6,origin='lower',cmap='jet',vmin=0)\n"
     ]
    },
    {
     "data": {
      "image/png": "[encoded data removed]",
      "text/plain": [
       "<Figure size 432x288 with 1 Axes>"
      ]
     },
     "metadata": {},
     "output_type": "display_data"
    }
   ],
   "source": [
    "# inhomogenious\n",
    "# zz model 'fro', average over 20 samples\n",
    "#Open sigms_x(t)_j\n",
    "#from matplotlib.colors import symlog()\n",
    "z=(np.stack([\n",
    "scipy.interpolate.interp1d(np.linspace(0.0, 1.0, K),cd,kind='quadratic')(np.linspace(0.0, 1.0, 10*K))\n",
    "for cd in norm_ave\n",
    "]))\n",
    "plt.imshow(real(norm_ave).T,aspect=6,origin='lower',cmap='jet',vmin=0)\n",
    "#plt.colorbar()\n",
    "plt.yscale('log')\n",
    "plt.ylim([2,40])\n",
    "#plt.axis('off')\n",
    "plt.tick_params(width=1.5,labelbottom=False,axis='x')\n",
    "plt.tick_params(width=1.5,labelleft=False,axis='y')\n",
    "plt.xticks([0,1,2,3,4,5,6,7,8])\n",
    "plt.yticks([1,10])\n",
    "plt.savefig('OTOZ_xx_x_hom.pdf',transparent=True, format='pdf',bbox_inches='tight')"
   ]
  },
  {
   "cell_type": "code",
   "execution_count": 32,
   "id": "2c23674f-def6-4bf8-86a6-b6b8b7df99ea",
   "metadata": {},
   "outputs": [
    {
     "name": "stderr",
     "output_type": "stream",
     "text": [
      "/tmp/ipykernel_26532/2181461674.py:9: DeprecationWarning: scipy.real is deprecated and will be removed in SciPy 2.0.0, use numpy.real instead\n",
      "  plt.imshow(real(Norm_2).T,aspect=6,origin='lower',cmap='jet',vmin=0, vmax=zz)\n"
     ]
    },
    {
     "data": {
      "image/png": "[encoded data removed]",
      "text/plain": [
       "<Figure size 432x288 with 1 Axes>"
      ]
     },
     "metadata": {},
     "output_type": "display_data"
    }
   ],
   "source": [
    "# inhomogenious\n",
    "# zz model 'fro', average over 20 samples\n",
    "#Open sigms_x(t)_j\n",
    "#from matplotlib.colors import symlog()\n",
    "z=(np.stack([\n",
    "scipy.interpolate.interp1d(np.linspace(0.0, 1.0, K),cd,kind='quadratic')(np.linspace(0.0, 1.0, 10*K))\n",
    "for cd in Norm_2\n",
    "]))\n",
    "plt.imshow(real(Norm_2).T,aspect=6,origin='lower',cmap='jet',vmin=0, vmax=zz)\n",
    "#plt.colorbar()\n",
    "plt.yscale('log')\n",
    "plt.ylim([2,40])\n",
    "#plt.axis('off')\n",
    "plt.tick_params(width=1.5,labelbottom=False,axis='x')\n",
    "plt.tick_params(width=1.5,labelleft=False,axis='y')\n",
    "plt.xticks([0,4,8])\n",
    "plt.yticks([1,10,40])\n",
    "plt.savefig('OTOZ_xx_x_inhom.pdf',transparent=True, format='pdf',bbox_inches='tight')"
   ]
  },
  {
   "cell_type": "code",
   "execution_count": null,
   "id": "0f3af873-6ce6-4ee5-b00e-77be8a3a51c7",
   "metadata": {},
   "outputs": [
    {
     "name": "stderr",
     "output_type": "stream",
     "text": [
      "/tmp/ipykernel_26532/731415293.py:9: DeprecationWarning: scipy.real is deprecated and will be removed in SciPy 2.0.0, use numpy.real instead\n",
      "  plt.imshow(real(Norm_1).T,aspect=6,origin='lower',cmap='jet',vmin=0, vmax=zz)\n"
     ]
    },
    {
     "data": {
      "image/png": "[encoded data removed]",
      "text/plain": [
       "<Figure size 432x288 with 1 Axes>"
      ]
     },
     "metadata": {},
     "output_type": "display_data"
    }
   ],
   "source": []
  },
  {
   "cell_type": "code",
   "execution_count": 30,
   "id": "fe35af7f-b82a-4c67-8e7c-b5f3e67e042d",
   "metadata": {},
   "outputs": [
    {
     "name": "stderr",
     "output_type": "stream",
     "text": [
      "/tmp/ipykernel_26532/2407965952.py:11: DeprecationWarning: scipy.real is deprecated and will be removed in SciPy 2.0.0, use numpy.real instead\n",
      "  plt.imshow(real(Norm_3).T,aspect=6,origin='lower',cmap='jet',vmin=0, vmax=zz)\n"
     ]
    },
    {
     "data": {
      "image/png": "[encoded data removed]",
      "text/plain": [
       "<Figure size 432x288 with 1 Axes>"
      ]
     },
     "metadata": {},
     "output_type": "display_data"
    }
   ],
   "source": [
    "# inhomogenious\n",
    "# zz model 'fro', average over 20 samples\n",
    "#Open sigms_x(t)_j\n",
    "#from matplotlib.colors import symlog()\n",
    "zz=42\n",
    "K=40\n",
    "z=(np.stack([\n",
    "scipy.interpolate.interp1d(np.linspace(0.0, 1.0, K),cd,kind='quadratic')(np.linspace(0.0, 1.0, 10*K))\n",
    "for cd in Norm_3\n",
    "]))\n",
    "plt.imshow(real(Norm_3).T,aspect=6,origin='lower',cmap='jet',vmin=0, vmax=zz)\n",
    "#plt.colorbar()\n",
    "plt.yscale('log')\n",
    "plt.ylim([2,40])\n",
    "#plt.axis('off')\n",
    "plt.tick_params(width=1.5,labelbottom=False,axis='x')\n",
    "plt.tick_params(width=1.5,labelleft=False,axis='y')\n",
    "plt.xticks([0,4,8])\n",
    "plt.yticks([1,10,40])\n",
    "plt.savefig('OTOZ_ZZ_z_inhom.pdf',transparent=True, format='pdf',bbox_inches='tight')"
   ]
  },
  {
   "cell_type": "code",
   "execution_count": null,
   "id": "716b8a80-a920-44bb-a52b-afaa1d795241",
   "metadata": {},
   "outputs": [],
   "source": []
  },
  {
   "cell_type": "code",
   "execution_count": null,
   "id": "4e5ac12e-3dee-4afa-a9b4-fe99a827122e",
   "metadata": {},
   "outputs": [
    {
     "name": "stderr",
     "output_type": "stream",
     "text": [
      "/tmp/ipykernel_26532/2110560619.py:10: DeprecationWarning: scipy.real is deprecated and will be removed in SciPy 2.0.0, use numpy.real instead\n",
      "  plt.imshow(real(np.average(Norm_4,axis=0)).T,aspect=6,origin='lower',cmap='jet',vmin=0, vmax=zz)\n"
     ]
    },
    {
     "data": {
      "image/png": "[encoded data removed]",
      "text/plain": [
       "<Figure size 432x288 with 1 Axes>"
      ]
     },
     "metadata": {},
     "output_type": "display_data"
    }
   ],
   "source": []
  },
  {
   "cell_type": "code",
   "execution_count": 40,
   "id": "c69c6994-2915-4ac1-a1d8-ce5ec33dee7b",
   "metadata": {},
   "outputs": [
    {
     "name": "stderr",
     "output_type": "stream",
     "text": [
      "/tmp/ipykernel_26532/2547800324.py:9: DeprecationWarning: scipy.real is deprecated and will be removed in SciPy 2.0.0, use numpy.real instead\n",
      "  plt.imshow(real(norm_ave).T,aspect=6,origin='lower',cmap='jet')\n"
     ]
    },
    {
     "data": {
      "text/plain": [
       "([<matplotlib.axis.YTick at 0x14970b8077f0>,\n",
       "  <matplotlib.axis.YTick at 0x14970b8070d0>],\n",
       " [])"
      ]
     },
     "execution_count": 40,
     "metadata": {},
     "output_type": "execute_result"
    },
    {
     "data": {
      "image/png": "[encoded data removed]",
      "text/plain": [
       "<Figure size 432x288 with 2 Axes>"
      ]
     },
     "metadata": {
      "needs_background": "light"
     },
     "output_type": "display_data"
    }
   ],
   "source": [
    "# inhomogenious\n",
    "# zz model 'fro', average over 20 samples\n",
    "#Open sigms_x(t)_j\n",
    "#from matplotlib.colors import symlog()\n",
    "z=(np.stack([\n",
    "scipy.interpolate.interp1d(np.linspace(0.0, 1.0, K),cd,kind='quadratic')(np.linspace(0.0, 1.0, 10*K))\n",
    "for cd in norm_ave\n",
    "]))\n",
    "plt.imshow(real(norm_ave).T,aspect=6,origin='lower',cmap='jet')\n",
    "plt.colorbar()\n",
    "plt.yscale('log')\n",
    "plt.ylim([2,40])\n",
    "plt.xlabel('j', size=20)\n",
    "plt.ylabel('t',size=20)\n",
    "plt.tick_params(width=1.5,labelbottom=False,axis='x')\n",
    "plt.tick_params(width=1.5,labelleft=False,axis='y')\n",
    "plt.xticks([0,1,2,3,4,5,6,7,8])\n",
    "plt.yticks([1,10])\n",
    "#fig.savefig('OTOZ_ZZ_z_inhom.pdf',transparent=True, format='pdf',bbox_inches='tight')"
   ]
  },
  {
   "cell_type": "code",
   "execution_count": null,
   "id": "6e9dee09-bbbd-4d0a-b108-0888d8b64c1a",
   "metadata": {},
   "outputs": [],
   "source": []
  },
  {
   "cell_type": "code",
   "execution_count": null,
   "id": "b63a67e7-d9de-412e-a703-602585e6becc",
   "metadata": {},
   "outputs": [],
   "source": []
  },
  {
   "cell_type": "code",
   "execution_count": null,
   "id": "56e9a4dd-a69f-46b9-aaa5-21ca96b086b2",
   "metadata": {},
   "outputs": [],
   "source": []
  },
  {
   "cell_type": "code",
   "execution_count": 38,
   "id": "11af1743-a582-4ba5-9892-1b26389daea7",
   "metadata": {},
   "outputs": [
    {
     "name": "stderr",
     "output_type": "stream",
     "text": [
      "/tmp/ipykernel_26532/3072577746.py:9: DeprecationWarning: scipy.real is deprecated and will be removed in SciPy 2.0.0, use numpy.real instead\n",
      "  plt.imshow(real(norm_ave).T,aspect=6,origin='lower',cmap='jet',vmin=0, vmax=zz)\n"
     ]
    },
    {
     "data": {
      "text/plain": [
       "([<matplotlib.axis.YTick at 0x14970b9b18b0>,\n",
       "  <matplotlib.axis.YTick at 0x14970b9b1160>],\n",
       " [])"
      ]
     },
     "execution_count": 38,
     "metadata": {},
     "output_type": "execute_result"
    },
    {
     "data": {
      "image/png": "[encoded data removed]",
      "text/plain": [
       "<Figure size 432x288 with 2 Axes>"
      ]
     },
     "metadata": {
      "needs_background": "light"
     },
     "output_type": "display_data"
    }
   ],
   "source": [
    "# inhomogenious\n",
    "# zz model 'fro', average over 20 samples\n",
    "#Open sigms_x(t)_j\n",
    "#from matplotlib.colors import symlog()\n",
    "z=(np.stack([\n",
    "scipy.interpolate.interp1d(np.linspace(0.0, 1.0, K),cd,kind='quadratic')(np.linspace(0.0, 1.0, 10*K))\n",
    "for cd in norm_ave\n",
    "]))\n",
    "plt.imshow(real(norm_ave).T,aspect=6,origin='lower',cmap='jet',vmin=0, vmax=zz)\n",
    "plt.colorbar()\n",
    "plt.yscale('log')\n",
    "plt.ylim([2,40])\n",
    "plt.xlabel('j', size=20)\n",
    "plt.ylabel('t',size=20)\n",
    "plt.tick_params(width=1.5,labelbottom=False,axis='x')\n",
    "plt.tick_params(width=1.5,labelleft=False,axis='y')\n",
    "plt.xticks([0,1,2,3,4,5,6,7,8])\n",
    "plt.yticks([1,10])\n",
    "#fig.savefig('OTOZ_ZZ_z_inhom.pdf',transparent=True, format='pdf',bbox_inches='tight')"
   ]
  },
  {
   "cell_type": "code",
   "execution_count": 289,
   "id": "263b2693-3e7b-49ba-b494-98d0bc27a09a",
   "metadata": {},
   "outputs": [
    {
     "name": "stderr",
     "output_type": "stream",
     "text": [
      "/tmp/ipykernel_21736/2547800324.py:9: DeprecationWarning: scipy.real is deprecated and will be removed in SciPy 2.0.0, use numpy.real instead\n",
      "  plt.imshow(real(norm_ave).T,aspect=6,origin='lower',cmap='jet')\n"
     ]
    },
    {
     "data": {
      "text/plain": [
       "([<matplotlib.axis.YTick at 0x14d87f755ac0>,\n",
       "  <matplotlib.axis.YTick at 0x14d87f755340>],\n",
       " [])"
      ]
     },
     "execution_count": 289,
     "metadata": {},
     "output_type": "execute_result"
    },
    {
     "data": {
      "image/png": "[encoded data removed]",
      "text/plain": [
       "<Figure size 432x288 with 2 Axes>"
      ]
     },
     "metadata": {
      "needs_background": "light"
     },
     "output_type": "display_data"
    }
   ],
   "source": [
    "# inhomogenious\n",
    "# zz model 'fro', average over 20 samples\n",
    "#Open sigms_x(t)_j\n",
    "#from matplotlib.colors import symlog()\n",
    "z=(np.stack([\n",
    "scipy.interpolate.interp1d(np.linspace(0.0, 1.0, K),cd,kind='quadratic')(np.linspace(0.0, 1.0, 10*K))\n",
    "for cd in norm_ave\n",
    "]))\n",
    "plt.imshow(real(norm_ave).T,aspect=6,origin='lower',cmap='jet')\n",
    "plt.colorbar()\n",
    "plt.yscale('log')\n",
    "plt.ylim([2,40])\n",
    "plt.xlabel('j', size=20)\n",
    "plt.ylabel('t',size=20)\n",
    "plt.tick_params(width=1.5,labelbottom=False,axis='x')\n",
    "plt.tick_params(width=1.5,labelleft=False,axis='y')\n",
    "plt.xticks([0,1,2,3,4,5,6,7,8])\n",
    "plt.yticks([1,10])\n",
    "#fig.savefig('OTOZ_ZZ_z_inhom.pdf',transparent=True, format='pdf',bbox_inches='tight')"
   ]
  },
  {
   "cell_type": "code",
   "execution_count": null,
   "id": "f0a17591-e16a-45de-9a1a-a8f514f49619",
   "metadata": {},
   "outputs": [
    {
     "name": "stderr",
     "output_type": "stream",
     "text": [
      "/tmp/ipykernel_21736/3406508584.py:9: DeprecationWarning: scipy.real is deprecated and will be removed in SciPy 2.0.0, use numpy.real instead\n",
      "  plt.imshow(real(norm_ave).T,aspect=6,origin='lower',cmap='jet')\n"
     ]
    },
    {
     "data": {
      "image/png": "[encoded data removed]",
      "text/plain": [
       "<Figure size 432x288 with 2 Axes>"
      ]
     },
     "metadata": {
      "needs_background": "light"
     },
     "output_type": "display_data"
    }
   ],
   "source": []
  },
  {
   "cell_type": "code",
   "execution_count": 36,
   "id": "5c702f6d-13ec-4290-b4b3-08650a1d17a3",
   "metadata": {},
   "outputs": [
    {
     "name": "stderr",
     "output_type": "stream",
     "text": [
      "/tmp/ipykernel_26532/976405733.py:9: DeprecationWarning: scipy.real is deprecated and will be removed in SciPy 2.0.0, use numpy.real instead\n",
      "  plt.imshow(real(norm_ave).T,aspect=6,origin='lower',cmap='jet',vmin=0, vmax=zz)\n"
     ]
    },
    {
     "data": {
      "text/plain": [
       "([<matplotlib.axis.YTick at 0x14970b9edb50>,\n",
       "  <matplotlib.axis.YTick at 0x14970b9ed400>],\n",
       " [])"
      ]
     },
     "execution_count": 36,
     "metadata": {},
     "output_type": "execute_result"
    },
    {
     "data": {
      "image/png": "[encoded data removed]",
      "text/plain": [
       "<Figure size 432x288 with 2 Axes>"
      ]
     },
     "metadata": {
      "needs_background": "light"
     },
     "output_type": "display_data"
    }
   ],
   "source": [
    "# inhomogenious\n",
    "# zz model 'fro', average over 20 samples\n",
    "#Open sigms_x(t)_j\n",
    "#from matplotlib.colors import symlog()\n",
    "z=(np.stack([\n",
    "scipy.interpolate.interp1d(np.linspace(0.0, 1.0, K),cd,kind='quadratic')(np.linspace(0.0, 1.0, 10*K))\n",
    "for cd in norm_ave\n",
    "]))\n",
    "plt.imshow(real(norm_ave).T,aspect=6,origin='lower',cmap='jet',vmin=0, vmax=zz)\n",
    "plt.colorbar()\n",
    "plt.yscale('log')\n",
    "plt.ylim([2,40])\n",
    "#plt.axis('off')\n",
    "plt.tick_params(width=1.5,labelbottom=False,axis='x')\n",
    "plt.tick_params(width=1.5,labelleft=False,axis='y')\n",
    "plt.xticks([0,1,2,3,4,5,6,7,8])\n",
    "plt.yticks([1,10])\n"
   ]
  },
  {
   "cell_type": "code",
   "execution_count": 41,
   "id": "a7d82572-e01c-4783-a996-b808fd77be32",
   "metadata": {},
   "outputs": [],
   "source": [
    "np.savez('OTOZ_zz_x_inhom'+ \".npz\", state=norm)"
   ]
  },
  {
   "cell_type": "code",
   "execution_count": 2,
   "id": "b355436e-a74a-4f25-9fc1-c9cc037f90ac",
   "metadata": {},
   "outputs": [],
   "source": [
    "Norm3=np.load('OTOZ_ZZ_z_inhom.npz')\n",
    "Norm_3=Norm3['state']\n",
    "Norm4=np.load('OTOZ_zz_x_inhom.npz')\n",
    "Norm_4=Norm4['state']\n",
    "Norm2=np.load('OTOZ_xx_x_inhom.npz')\n",
    "Norm_2=Norm2['state']\n",
    "Norm1=np.load('OTOZ_xx_z_inhom.npz')\n",
    "Norm_1=Norm1['state']"
   ]
  },
  {
   "cell_type": "code",
   "execution_count": null,
   "id": "ab15b790-cc27-4713-b62f-fca941173d5e",
   "metadata": {},
   "outputs": [],
   "source": []
  },
  {
   "cell_type": "code",
   "execution_count": 283,
   "id": "29a68b6e-208b-4551-a7ff-e2b54b1455fc",
   "metadata": {},
   "outputs": [
    {
     "name": "stderr",
     "output_type": "stream",
     "text": [
      "/tmp/ipykernel_21736/2261854919.py:9: DeprecationWarning: scipy.real is deprecated and will be removed in SciPy 2.0.0, use numpy.real instead\n",
      "  plt.imshow(real(norm_ave).T,aspect=6,origin='lower',cmap='jet',vmin=0, vmax=32)\n"
     ]
    },
    {
     "data": {
      "image/png": "[encoded data removed]",
      "text/plain": [
       "<Figure size 432x288 with 1 Axes>"
      ]
     },
     "metadata": {},
     "output_type": "display_data"
    }
   ],
   "source": [
    "# inhomogenious\n",
    "# zz model 'fro', average over 20 samples\n",
    "#Open sigms_x(t)_j\n",
    "#from matplotlib.colors import symlog()\n",
    "z=(np.stack([\n",
    "scipy.interpolate.interp1d(np.linspace(0.0, 1.0, K),cd,kind='quadratic')(np.linspace(0.0, 1.0, 10*K))\n",
    "for cd in norm_ave\n",
    "]))\n",
    "plt.imshow(real(norm_ave).T,aspect=6,origin='lower',cmap='jet',vmin=0, vmax=32)\n",
    "#plt.colorbar()\n",
    "plt.yscale('log')\n",
    "plt.ylim([2,40])\n",
    "#plt.axis('off')\n",
    "plt.tick_params(width=1.5,labelbottom=False,axis='x')\n",
    "plt.tick_params(width=1.5,labelleft=False,axis='y')\n",
    "plt.xticks([0,1,2,3,4,5,6,7,8])\n",
    "plt.yticks([1,10])\n",
    "fig.savefig('OTOZ_ZZ_z_inhom.pdf',transparent=True, format='pdf',bbox_inches='tight')"
   ]
  },
  {
   "cell_type": "code",
   "execution_count": 45,
   "id": "bf7d1830-9363-41b3-8a76-b1637dcc77ec",
   "metadata": {},
   "outputs": [
    {
     "name": "stderr",
     "output_type": "stream",
     "text": [
      "/tmp/ipykernel_5464/15305817.py:9: DeprecationWarning: scipy.real is deprecated and will be removed in SciPy 2.0.0, use numpy.real instead\n",
      "  axes[k-3*j,j].imshow(real(norm[k]).T,aspect=6,origin='lower',cmap='jet')\n"
     ]
    },
    {
     "data": {
      "image/png": "[encoded data removed]",
      "text/plain": [
       "<Figure size 1224x864 with 9 Axes>"
      ]
     },
     "metadata": {
      "needs_background": "light"
     },
     "output_type": "display_data"
    }
   ],
   "source": [
    "# 90000 samples\n",
    "\n",
    "fig, axes = plt.subplots(3, 3, figsize=(17,12))\n",
    "fig.tight_layout()\n",
    "fig.suptitle(r'$\\pi /6,z$' ,size=35, y=1.05)\n",
    "for j in range(3):\n",
    "    for k in range(3*j,3*(j+1)):\n",
    "        \n",
    "        axes[k-3*j,j].imshow(real(norm[k]).T,aspect=6,origin='lower',cmap='jet')\n",
    "        axes[k-3*j,j].set_yscale('log')\n",
    "        axes[k-3*j,j].set_ylim(1,40)\n",
    "        \n",
    "\n",
    "#legend.draggable()\n",
    "plt.subplots_adjust(right=0.95)\n",
    "#plt.colorbar()"
   ]
  },
  {
   "cell_type": "code",
   "execution_count": 46,
   "id": "a93044f1-99ff-4036-b2a6-9eb39a7ba487",
   "metadata": {},
   "outputs": [
    {
     "name": "stderr",
     "output_type": "stream",
     "text": [
      "/tmp/ipykernel_5464/652229182.py:9: DeprecationWarning: scipy.real is deprecated and will be removed in SciPy 2.0.0, use numpy.real instead\n",
      "  plt.imshow(real(norm_ave).T,aspect=6,origin='lower',cmap='jet',vmin=0, vmax=32)\n"
     ]
    },
    {
     "data": {
      "text/plain": [
       "([<matplotlib.axis.YTick at 0x149b68c4cee0>,\n",
       "  <matplotlib.axis.YTick at 0x149b68c4c790>],\n",
       " [])"
      ]
     },
     "execution_count": 46,
     "metadata": {},
     "output_type": "execute_result"
    },
    {
     "data": {
      "image/png": "[encoded data removed]",
      "text/plain": [
       "<Figure size 432x288 with 2 Axes>"
      ]
     },
     "metadata": {
      "needs_background": "light"
     },
     "output_type": "display_data"
    }
   ],
   "source": [
    "# inhomogenious\n",
    "# zz model 'fro', average over 20 samples\n",
    "#Open sigms_x(t)_j\n",
    "#from matplotlib.colors import symlog()\n",
    "z=(np.stack([\n",
    "scipy.interpolate.interp1d(np.linspace(0.0, 1.0, K),cd,kind='quadratic')(np.linspace(0.0, 1.0, 10*K))\n",
    "for cd in norm_ave\n",
    "]))\n",
    "plt.imshow(real(norm_ave).T,aspect=6,origin='lower',cmap='jet',vmin=0, vmax=32)\n",
    "plt.colorbar()\n",
    "plt.yscale('log')\n",
    "plt.ylim([2,40])\n",
    "#plt.axis('off')\n",
    "plt.tick_params(width=1.5,labelbottom=False,axis='x')\n",
    "plt.tick_params(width=1.5,labelleft=False,axis='y')\n",
    "plt.xticks([0,1,2,3,4,5,6,7,8])\n",
    "plt.yticks([1,10])\n"
   ]
  },
  {
   "cell_type": "code",
   "execution_count": 11,
   "id": "68476b7c-c4d0-45b7-9361-217850af1001",
   "metadata": {},
   "outputs": [],
   "source": []
  }
 ],
 "metadata": {
  "kernelspec": {
   "display_name": "Qiskit",
   "language": "python",
   "name": "python3"
  },
  "language_info": {
   "codemirror_mode": {
    "name": "ipython",
    "version": 3
   },
   "file_extension": ".py",
   "mimetype": "text/x-python",
   "name": "python",
   "nbconvert_exporter": "python",
   "pygments_lexer": "ipython3",
   "version": "3.9.16"
  }
 },
 "nbformat": 4,
 "nbformat_minor": 5
}
